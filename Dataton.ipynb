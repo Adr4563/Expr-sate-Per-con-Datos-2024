{
 "cells": [
  {
   "cell_type": "markdown",
   "metadata": {},
   "source": [
    "# **Predicción de la Deserción Estudiantil en la Universidad Nacional de Ingeniería (2018-2024) con Inteligencia Artificial** "
   ]
  },
  {
   "cell_type": "markdown",
   "metadata": {},
   "source": [
    "# **Lectura de los datos PreUniversitarios y Admisión**"
   ]
  },
  {
   "cell_type": "code",
   "execution_count": 340,
   "metadata": {},
   "outputs": [],
   "source": [
    "import pandas as pd\n",
    "import numpy as np\n",
    "import seaborn as sns                       #visualisation\n",
    "import matplotlib.pyplot as plt             #visualisation\n",
    "%matplotlib inline     \n",
    "sns.set(color_codes=True)\n",
    "from unidecode import unidecode"
   ]
  },
  {
   "cell_type": "code",
   "execution_count": 341,
   "metadata": {},
   "outputs": [],
   "source": [
    "data_admision = pd.read_csv(r'..\\Datos_abiertos_admision_2021_1_2024_1.csv')\n",
    "data_preuniversitario = pd.read_csv(r'..\\Datos_abiertos_cepre.csv')"
   ]
  },
  {
   "cell_type": "code",
   "execution_count": 342,
   "metadata": {},
   "outputs": [
    {
     "data": {
      "text/plain": [
       "Index(['IDHASH', 'COLEGIO', 'COLEGIO_DEPA', 'COLEGIO_PROV', 'COLEGIO_DIST',\n",
       "       'COLEGIO_PAIS', 'COLEGIO_ANIO_EGRESO', 'ESPECIALIDAD', 'ANIO_POSTULA',\n",
       "       'CICLO_POSTULA', 'DOMICILIO_DEPA', 'DOMICILIO_PROV', 'DOMICILIO_DIST',\n",
       "       'ANIO_NACIMIENTO', 'NACIMIENTO_PAIS', 'NACIMIENTO_DEPA',\n",
       "       'NACIMIENTO_PROV', 'NACIMIENTO_DIST', 'SEXO', 'CALIF_FINAL', 'INGRESO',\n",
       "       'MODALIDAD'],\n",
       "      dtype='object')"
      ]
     },
     "execution_count": 342,
     "metadata": {},
     "output_type": "execute_result"
    }
   ],
   "source": [
    "# data_preuniversitario.dtypes\n",
    "data_admision.columns"
   ]
  },
  {
   "cell_type": "markdown",
   "metadata": {},
   "source": [
    "# **Objetivos**"
   ]
  },
  {
   "cell_type": "markdown",
   "metadata": {},
   "source": [
    "### **1.1. Determinar el periodo significativo para integrar un modelo ML**"
   ]
  },
  {
   "cell_type": "code",
   "execution_count": 343,
   "metadata": {},
   "outputs": [],
   "source": [
    "# Data CEPreUniversitario: 2016 - 2023\n",
    "# Inscripción: Apartir del Lunes 08 de Julio hasta el 23 de Agosto\n",
    "# Inicio de clases: 02 de Setiembre del 2024.\n",
    "# Fin de clases: Diciembre del 2024\n",
    "\n",
    "# Data Admision: 2021-1 al 2024-1\n",
    "# Rendir 3 examenes de admisión\n",
    "# Inicio en Febrero\n",
    "# Inicio en Agosto\n",
    "\n",
    "# Definir el alcance del periodo significativo para abordar un rango de analsis apropiado, lo cual sera desde 2020-1 hasta 2024-1\n",
    "data_preuniversitario.query('ANIO_POSTULA >= 2020', inplace=True)\n",
    "# data_preuniversitario"
   ]
  },
  {
   "cell_type": "markdown",
   "metadata": {},
   "source": [
    "### **1.2. Determinar los estudiantes presentes en la PreUniversitario y Admisión**"
   ]
  },
  {
   "cell_type": "markdown",
   "metadata": {},
   "source": [
    "### **1.2.1. Verificar y limpiar la data presente en las columnas**"
   ]
  },
  {
   "cell_type": "code",
   "execution_count": 344,
   "metadata": {},
   "outputs": [],
   "source": [
    "# data_admision[\"IDHASH\"].describe()\n",
    "# data_preuniversitario[\"IDHASH\"].describe()\n",
    "\n",
    "# 1. Eliminar espacios en blancos que están presentes en la data\n",
    "# data_admision[\"IDHASH\"].str.strip().describe()\n",
    "# data_preuniversitario[\"IDHASH\"].str.strip().describe()\n",
    "\n",
    "# 2. Verificar datos NAN o NULLS\n",
    "# data_admision[\"IDHASH\"].isnull().sum() // isna()\n",
    "# data_preuniversitario[\"IDHASH\"].isnull().sum() \n",
    "\n",
    "# 3. Detección de datos Duplicados (ROWS)\n",
    "# data_admision.duplicated().sum()\n",
    "# data_preuniversitario.duplicated().sum()\n",
    "\n",
    "# IDHASH se descarta\n",
    "# En conclusión, no se encontraron espacios rendundantes en el set Admin y PRE respecto al atributo IDHASH\n",
    "# En conlusión, no se econtraron datos faltantes            \"\"\n",
    "# En conclusión, no se encontraron datos dulpicados         \"\""
   ]
  },
  {
   "cell_type": "code",
   "execution_count": 345,
   "metadata": {},
   "outputs": [],
   "source": [
    "# 1. Eliminar espacios en blancos, letras en mayusculas y eliminar acentos que están presentes en la data\n",
    "\n",
    "# Identificar las columnas de tipo 'object'\n",
    "object_cols_1 = data_admision.select_dtypes(include='object').columns\n",
    "object_cols_2 = data_preuniversitario.select_dtypes(include='object').columns\n",
    "\n",
    "# Función para limpiar texto, manejando posibles NaN u otros tipos de datos\n",
    "def clean_column(column):\n",
    "    return column.str.strip().str.upper().map(lambda x: unidecode(x) if isinstance(x, str) else x)\n",
    "\n",
    "# Aplicar la limpieza a cada columna de tipo 'object'\n",
    "for col in object_cols_1:\n",
    "    data_admision[col] = clean_column(data_admision[col])\n",
    "    \n",
    "for col in object_cols_2:\n",
    "    data_preuniversitario[col] = clean_column(data_preuniversitario[col])\n",
    "\n",
    "# Contar valores únicos de las columnas\n",
    "# data_admision.dtypes()"
   ]
  },
  {
   "cell_type": "markdown",
   "metadata": {},
   "source": [
    "### **1.2.2. Imputación de datos faltantes**"
   ]
  },
  {
   "cell_type": "code",
   "execution_count": 348,
   "metadata": {},
   "outputs": [
    {
     "data": {
      "text/plain": [
       "COLEGIO_DEPA         226\n",
       "COLEGIO_PROV         228\n",
       "COLEGIO_DIST         228\n",
       "COLEGIO_PAIS       23574\n",
       "ESPECIALIDAD          55\n",
       "NACIMIENTO_DEPA      202\n",
       "NACIMIENTO_PROV      202\n",
       "NACIMIENTO_DIST      203\n",
       "dtype: int64"
      ]
     },
     "execution_count": 348,
     "metadata": {},
     "output_type": "execute_result"
    }
   ],
   "source": [
    "# 2. Identificar columnas que presentan NAN o NULLS\n",
    "data_admision.isnull().sum()[data_admision.isnull().sum() > 0]"
   ]
  },
  {
   "cell_type": "code",
   "execution_count": 347,
   "metadata": {},
   "outputs": [
    {
     "data": {
      "text/plain": [
       "42516"
      ]
     },
     "execution_count": 347,
     "metadata": {},
     "output_type": "execute_result"
    }
   ],
   "source": [
    "# 2.1. Imputación de datos de Calificación \n",
    "# data_admision[\"CALIF_FINAL\"].info() // Distribución asimetrica positiva\n",
    "# data_admision[\"CALIF_FINAL\"][data_admision[\"CALIF_FINAL\"].isnull()]\n",
    "data_admision['CALIF_FINAL'].fillna(data_admision['CALIF_FINAL'].mode()[0], inplace=True)\n",
    "data_admision[\"CALIF_FINAL\"].isnull().count()"
   ]
  },
  {
   "cell_type": "code",
   "execution_count": 354,
   "metadata": {},
   "outputs": [
    {
     "name": "stderr",
     "output_type": "stream",
     "text": [
      "C:\\Users\\user\\AppData\\Local\\Temp\\ipykernel_13452\\2488097030.py:2: UserWarning: Boolean Series key will be reindexed to match DataFrame index.\n",
      "  data = data_admision[data_admision[\"COLEGIO\"].value_counts()<100]\n"
     ]
    },
    {
     "ename": "IndexingError",
     "evalue": "Unalignable boolean Series provided as indexer (index of the boolean Series and of the indexed object do not match).",
     "output_type": "error",
     "traceback": [
      "\u001b[1;31m---------------------------------------------------------------------------\u001b[0m",
      "\u001b[1;31mIndexingError\u001b[0m                             Traceback (most recent call last)",
      "Cell \u001b[1;32mIn[354], line 2\u001b[0m\n\u001b[0;32m      1\u001b[0m \u001b[38;5;66;03m# 2.2 Imputacion de datos de Colegio pais\u001b[39;00m\n\u001b[1;32m----> 2\u001b[0m data \u001b[38;5;241m=\u001b[39m \u001b[43mdata_admision\u001b[49m\u001b[43m[\u001b[49m\u001b[43mdata_admision\u001b[49m\u001b[43m[\u001b[49m\u001b[38;5;124;43m\"\u001b[39;49m\u001b[38;5;124;43mCOLEGIO\u001b[39;49m\u001b[38;5;124;43m\"\u001b[39;49m\u001b[43m]\u001b[49m\u001b[38;5;241;43m.\u001b[39;49m\u001b[43mvalue_counts\u001b[49m\u001b[43m(\u001b[49m\u001b[43m)\u001b[49m\u001b[38;5;241;43m<\u001b[39;49m\u001b[38;5;241;43m100\u001b[39;49m\u001b[43m]\u001b[49m\n",
      "File \u001b[1;32m~\\AppData\\Local\\Packages\\PythonSoftwareFoundation.Python.3.11_qbz5n2kfra8p0\\LocalCache\\local-packages\\Python311\\site-packages\\pandas\\core\\frame.py:3884\u001b[0m, in \u001b[0;36mDataFrame.__getitem__\u001b[1;34m(self, key)\u001b[0m\n\u001b[0;32m   3882\u001b[0m \u001b[38;5;66;03m# Do we have a (boolean) 1d indexer?\u001b[39;00m\n\u001b[0;32m   3883\u001b[0m \u001b[38;5;28;01mif\u001b[39;00m com\u001b[38;5;241m.\u001b[39mis_bool_indexer(key):\n\u001b[1;32m-> 3884\u001b[0m     \u001b[38;5;28;01mreturn\u001b[39;00m \u001b[38;5;28;43mself\u001b[39;49m\u001b[38;5;241;43m.\u001b[39;49m\u001b[43m_getitem_bool_array\u001b[49m\u001b[43m(\u001b[49m\u001b[43mkey\u001b[49m\u001b[43m)\u001b[49m\n\u001b[0;32m   3886\u001b[0m \u001b[38;5;66;03m# We are left with two options: a single key, and a collection of keys,\u001b[39;00m\n\u001b[0;32m   3887\u001b[0m \u001b[38;5;66;03m# We interpret tuples as collections only for non-MultiIndex\u001b[39;00m\n\u001b[0;32m   3888\u001b[0m is_single_key \u001b[38;5;241m=\u001b[39m \u001b[38;5;28misinstance\u001b[39m(key, \u001b[38;5;28mtuple\u001b[39m) \u001b[38;5;129;01mor\u001b[39;00m \u001b[38;5;129;01mnot\u001b[39;00m is_list_like(key)\n",
      "File \u001b[1;32m~\\AppData\\Local\\Packages\\PythonSoftwareFoundation.Python.3.11_qbz5n2kfra8p0\\LocalCache\\local-packages\\Python311\\site-packages\\pandas\\core\\frame.py:3940\u001b[0m, in \u001b[0;36mDataFrame._getitem_bool_array\u001b[1;34m(self, key)\u001b[0m\n\u001b[0;32m   3934\u001b[0m     \u001b[38;5;28;01mraise\u001b[39;00m \u001b[38;5;167;01mValueError\u001b[39;00m(\n\u001b[0;32m   3935\u001b[0m         \u001b[38;5;124mf\u001b[39m\u001b[38;5;124m\"\u001b[39m\u001b[38;5;124mItem wrong length \u001b[39m\u001b[38;5;132;01m{\u001b[39;00m\u001b[38;5;28mlen\u001b[39m(key)\u001b[38;5;132;01m}\u001b[39;00m\u001b[38;5;124m instead of \u001b[39m\u001b[38;5;132;01m{\u001b[39;00m\u001b[38;5;28mlen\u001b[39m(\u001b[38;5;28mself\u001b[39m\u001b[38;5;241m.\u001b[39mindex)\u001b[38;5;132;01m}\u001b[39;00m\u001b[38;5;124m.\u001b[39m\u001b[38;5;124m\"\u001b[39m\n\u001b[0;32m   3936\u001b[0m     )\n\u001b[0;32m   3938\u001b[0m \u001b[38;5;66;03m# check_bool_indexer will throw exception if Series key cannot\u001b[39;00m\n\u001b[0;32m   3939\u001b[0m \u001b[38;5;66;03m# be reindexed to match DataFrame rows\u001b[39;00m\n\u001b[1;32m-> 3940\u001b[0m key \u001b[38;5;241m=\u001b[39m \u001b[43mcheck_bool_indexer\u001b[49m\u001b[43m(\u001b[49m\u001b[38;5;28;43mself\u001b[39;49m\u001b[38;5;241;43m.\u001b[39;49m\u001b[43mindex\u001b[49m\u001b[43m,\u001b[49m\u001b[43m \u001b[49m\u001b[43mkey\u001b[49m\u001b[43m)\u001b[49m\n\u001b[0;32m   3942\u001b[0m \u001b[38;5;28;01mif\u001b[39;00m key\u001b[38;5;241m.\u001b[39mall():\n\u001b[0;32m   3943\u001b[0m     \u001b[38;5;28;01mreturn\u001b[39;00m \u001b[38;5;28mself\u001b[39m\u001b[38;5;241m.\u001b[39mcopy(deep\u001b[38;5;241m=\u001b[39m\u001b[38;5;28;01mNone\u001b[39;00m)\n",
      "File \u001b[1;32m~\\AppData\\Local\\Packages\\PythonSoftwareFoundation.Python.3.11_qbz5n2kfra8p0\\LocalCache\\local-packages\\Python311\\site-packages\\pandas\\core\\indexing.py:2575\u001b[0m, in \u001b[0;36mcheck_bool_indexer\u001b[1;34m(index, key)\u001b[0m\n\u001b[0;32m   2573\u001b[0m indexer \u001b[38;5;241m=\u001b[39m result\u001b[38;5;241m.\u001b[39mindex\u001b[38;5;241m.\u001b[39mget_indexer_for(index)\n\u001b[0;32m   2574\u001b[0m \u001b[38;5;28;01mif\u001b[39;00m \u001b[38;5;241m-\u001b[39m\u001b[38;5;241m1\u001b[39m \u001b[38;5;129;01min\u001b[39;00m indexer:\n\u001b[1;32m-> 2575\u001b[0m     \u001b[38;5;28;01mraise\u001b[39;00m IndexingError(\n\u001b[0;32m   2576\u001b[0m         \u001b[38;5;124m\"\u001b[39m\u001b[38;5;124mUnalignable boolean Series provided as \u001b[39m\u001b[38;5;124m\"\u001b[39m\n\u001b[0;32m   2577\u001b[0m         \u001b[38;5;124m\"\u001b[39m\u001b[38;5;124mindexer (index of the boolean Series and of \u001b[39m\u001b[38;5;124m\"\u001b[39m\n\u001b[0;32m   2578\u001b[0m         \u001b[38;5;124m\"\u001b[39m\u001b[38;5;124mthe indexed object do not match).\u001b[39m\u001b[38;5;124m\"\u001b[39m\n\u001b[0;32m   2579\u001b[0m     )\n\u001b[0;32m   2581\u001b[0m result \u001b[38;5;241m=\u001b[39m result\u001b[38;5;241m.\u001b[39mtake(indexer)\n\u001b[0;32m   2583\u001b[0m \u001b[38;5;66;03m# fall through for boolean\u001b[39;00m\n",
      "\u001b[1;31mIndexingError\u001b[0m: Unalignable boolean Series provided as indexer (index of the boolean Series and of the indexed object do not match)."
     ]
    }
   ],
   "source": [
    "# 2.2 Imputacion de datos de Colegio pais\n",
    "data = data_admision[data_admision[\"COLEGIO\"].value_counts()<100]\n"
   ]
  },
  {
   "cell_type": "code",
   "execution_count": 326,
   "metadata": {},
   "outputs": [
    {
     "data": {
      "text/plain": [
       "NACIMIENTO_PAIS\n",
       "ARGENTINA           53\n",
       "BOLIVIA              9\n",
       "BRAZIL               9\n",
       "CHILE               16\n",
       "COLOMBIA             6\n",
       "ECUADOR              4\n",
       "EE.UU.              17\n",
       "ESPANA              16\n",
       "FRANCIA              1\n",
       "GUATEMALA            2\n",
       "HONDURAS             1\n",
       "ITALIA              19\n",
       "JAPON               22\n",
       "KOREA                2\n",
       "MEXICO               1\n",
       "NO ESPECIFICA        2\n",
       "PARAGUAY             1\n",
       "PERU             42285\n",
       "SIRIA                1\n",
       "SUIZA                4\n",
       "URUGUAY              1\n",
       "VENEZUELA           44\n",
       "dtype: int64"
      ]
     },
     "execution_count": 326,
     "metadata": {},
     "output_type": "execute_result"
    }
   ],
   "source": [
    "data_admision.groupby(data_admision[\"NACIMIENTO_PAIS\"]).size()"
   ]
  },
  {
   "cell_type": "markdown",
   "metadata": {},
   "source": [
    "#### **1.2.2. Identificar estudiantes presentes en la PreUniversitario y Admision**"
   ]
  },
  {
   "cell_type": "code",
   "execution_count": 180,
   "metadata": {},
   "outputs": [
    {
     "data": {
      "text/html": [
       "<div>\n",
       "<style scoped>\n",
       "    .dataframe tbody tr th:only-of-type {\n",
       "        vertical-align: middle;\n",
       "    }\n",
       "\n",
       "    .dataframe tbody tr th {\n",
       "        vertical-align: top;\n",
       "    }\n",
       "\n",
       "    .dataframe thead th {\n",
       "        text-align: right;\n",
       "    }\n",
       "</style>\n",
       "<table border=\"1\" class=\"dataframe\">\n",
       "  <thead>\n",
       "    <tr style=\"text-align: right;\">\n",
       "      <th></th>\n",
       "      <th>IDHASH</th>\n",
       "    </tr>\n",
       "  </thead>\n",
       "  <tbody>\n",
       "    <tr>\n",
       "      <th>count</th>\n",
       "      <td>32216</td>\n",
       "    </tr>\n",
       "    <tr>\n",
       "      <th>unique</th>\n",
       "      <td>7430</td>\n",
       "    </tr>\n",
       "    <tr>\n",
       "      <th>top</th>\n",
       "      <td>74831DDBBB0B69C9CC1D3E6DBA61310C3AB2B26A94ABF5...</td>\n",
       "    </tr>\n",
       "    <tr>\n",
       "      <th>freq</th>\n",
       "      <td>49</td>\n",
       "    </tr>\n",
       "  </tbody>\n",
       "</table>\n",
       "</div>"
      ],
      "text/plain": [
       "                                                   IDHASH\n",
       "count                                               32216\n",
       "unique                                               7430\n",
       "top     74831DDBBB0B69C9CC1D3E6DBA61310C3AB2B26A94ABF5...\n",
       "freq                                                   49"
      ]
     },
     "execution_count": 180,
     "metadata": {},
     "output_type": "execute_result"
    }
   ],
   "source": [
    "# Mediante un Query de Python podemos identificar aquellos estudiantes presentes en PreUniversitario y Admision.\n",
    "# Inner JOIN. \n",
    "merged_inner = pd.merge(left=data_preuniversitario, right=data_admision, how='inner', left_on='IDHASH', right_on='IDHASH')\n",
    "merged_inner = merged_inner[['IDHASH']]\n",
    "merged_inner.describe()\n",
    "\n",
    "# merged_inner.unique()"
   ]
  },
  {
   "cell_type": "code",
   "execution_count": null,
   "metadata": {},
   "outputs": [],
   "source": []
  }
 ],
 "metadata": {
  "kernelspec": {
   "display_name": "Python 3",
   "language": "python",
   "name": "python3"
  },
  "language_info": {
   "codemirror_mode": {
    "name": "ipython",
    "version": 3
   },
   "file_extension": ".py",
   "mimetype": "text/x-python",
   "name": "python",
   "nbconvert_exporter": "python",
   "pygments_lexer": "ipython3",
   "version": "3.11.9"
  }
 },
 "nbformat": 4,
 "nbformat_minor": 2
}
