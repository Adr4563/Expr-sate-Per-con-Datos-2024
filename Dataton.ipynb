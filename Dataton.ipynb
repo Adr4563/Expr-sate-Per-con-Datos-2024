{
 "cells": [
  {
   "cell_type": "markdown",
   "metadata": {},
   "source": [
    "# **Predicción de la Deserción Estudiantil en la Universidad Nacional de Ingeniería (2018-2024) con Inteligencia Artificial** "
   ]
  },
  {
   "cell_type": "code",
   "execution_count": 4,
   "metadata": {},
   "outputs": [],
   "source": [
    "import pandas as pd\n",
    "import numpy as np\n",
    "import seaborn as sns                       #visualisation\n",
    "import matplotlib.pyplot as plt             #visualisation\n",
    "%matplotlib inline     \n",
    "sns.set(color_codes=True)"
   ]
  },
  {
   "cell_type": "code",
   "execution_count": 5,
   "metadata": {},
   "outputs": [],
   "source": [
    "data_admision = pd.read_csv(r'..\\Datos_abiertos_admision_2021_1_2024_1.csv')\n",
    "data_preuniversitario = pd.read_csv(r'..\\Datos_abiertos_cepre.csv')"
   ]
  },
  {
   "cell_type": "code",
   "execution_count": 11,
   "metadata": {},
   "outputs": [
    {
     "data": {
      "text/plain": [
       "IDHASH                  object\n",
       "COLEGIO                 object\n",
       "COLEGIO_DEPA            object\n",
       "COLEGIO_PROV            object\n",
       "COLEGIO_DIST            object\n",
       "COLEGIO_PAIS            object\n",
       "COLEGIO_ANIO_EGRESO      int64\n",
       "ESPECIALIDAD            object\n",
       "ANIO_POSTULA             int64\n",
       "CICLO_POSTULA            int64\n",
       "DOMICILIO_DEPA          object\n",
       "DOMICILIO_PROV          object\n",
       "DOMICILIO_DIST          object\n",
       "ANIO_NACIMIENTO          int64\n",
       "NACIMIENTO_PAIS         object\n",
       "NACIMIENTO_DEPA         object\n",
       "NACIMIENTO_PROV         object\n",
       "NACIMIENTO_DIST         object\n",
       "SEXO                    object\n",
       "CALIF_FINAL            float64\n",
       "INGRESO                 object\n",
       "MODALIDAD               object\n",
       "dtype: object"
      ]
     },
     "execution_count": 11,
     "metadata": {},
     "output_type": "execute_result"
    }
   ],
   "source": [
    "# data_preuniversitario.dtypes\n",
    "# data_admision.dtypes\n",
    "data_admision.dtypes"
   ]
  },
  {
   "cell_type": "markdown",
   "metadata": {},
   "source": [
    "# **Query in Python Dataframe**"
   ]
  },
  {
   "cell_type": "code",
   "execution_count": 13,
   "metadata": {},
   "outputs": [
    {
     "data": {
      "text/plain": [
       "IDHASH\n",
       "00014F32BBBF4F714170C971C555A0AE4359AF4099D82C97E56B617EC223F62B5365F58F64D291AA9A6C6F95057BA8B06DCB18F100020F8DB9E6870697552AE3    1\n",
       "0002DF41C79D5E34153DB578014A6EADFF766488667DC31737EF7CA01A000919C8E20D1D38C01DC079B1A5E8654D453BFDAF47832F0DB24F4DE662D2A38A7721    3\n",
       "000718555FBD4F283BCAB5C3B8A2CAB20C6522CF82F52C9D31A0AF4E68714ECCFF93D8FFB3D911570C0B219342C0CAEE94DF38C7C9AE0CE8C523DFDFBCCDB97B    1\n",
       "dtype: int64"
      ]
     },
     "execution_count": 13,
     "metadata": {},
     "output_type": "execute_result"
    }
   ],
   "source": [
    "data_admision.groupby(\"IDHASH\").size().head(3)"
   ]
  },
  {
   "cell_type": "code",
   "execution_count": 33,
   "metadata": {},
   "outputs": [
    {
     "name": "stdout",
     "output_type": "stream",
     "text": [
      "Columnas en merged_inner: Index(['IDHASH', 'COLEGIO_x', 'COLEGIO_DEPA_x', 'COLEGIO_PROV_x',\n",
      "       'COLEGIO_DIST_x', 'COLEGIO_PAIS_x', 'COLEGIO_ANIO_EGRESO_x',\n",
      "       'ESPECIALIDAD_x', 'ANIO_POSTULA_x', 'CICLO_POSTULA_x',\n",
      "       'DOMICILIO_DEPA_x', 'DOMICILIO_PROV_x', 'DOMICILIO_DIST_x',\n",
      "       'ANIO_NACIMIENTO_x', 'NACIMIENTO_PAIS_x', 'NACIMIENTO_DEPA_x',\n",
      "       'NACIMIENTO_PROV_x', 'NACIMIENTO_DIST_x', 'SEXO_x', 'CALIF_FINAL_x',\n",
      "       'INGRESO_x', 'MODO_INGRESO', 'FECHA_CORTE', 'COLEGIO_y',\n",
      "       'COLEGIO_DEPA_y', 'COLEGIO_PROV_y', 'COLEGIO_DIST_y', 'COLEGIO_PAIS_y',\n",
      "       'COLEGIO_ANIO_EGRESO_y', 'ESPECIALIDAD_y', 'ANIO_POSTULA_y',\n",
      "       'CICLO_POSTULA_y', 'DOMICILIO_DEPA_y', 'DOMICILIO_PROV_y',\n",
      "       'DOMICILIO_DIST_y', 'ANIO_NACIMIENTO_y', 'NACIMIENTO_PAIS_y',\n",
      "       'NACIMIENTO_DEPA_y', 'NACIMIENTO_PROV_y', 'NACIMIENTO_DIST_y', 'SEXO_y',\n",
      "       'CALIF_FINAL_y', 'INGRESO_y', 'MODALIDAD'],\n",
      "      dtype='object')\n"
     ]
    }
   ],
   "source": [
    "merged_inner = pd.merge(left=data_preuniversitario, right=data_admision, how='inner', left_on='IDHASH', right_on='IDHASH')\n",
    "\n",
    "print(\"Columnas en merged_inner:\", merged_inner.columns)"
   ]
  }
 ],
 "metadata": {
  "kernelspec": {
   "display_name": "Python 3",
   "language": "python",
   "name": "python3"
  },
  "language_info": {
   "codemirror_mode": {
    "name": "ipython",
    "version": 3
   },
   "file_extension": ".py",
   "mimetype": "text/x-python",
   "name": "python",
   "nbconvert_exporter": "python",
   "pygments_lexer": "ipython3",
   "version": "3.11.9"
  }
 },
 "nbformat": 4,
 "nbformat_minor": 2
}
